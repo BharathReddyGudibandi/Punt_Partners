{
  "nbformat": 4,
  "nbformat_minor": 0,
  "metadata": {
    "colab": {
      "provenance": []
    },
    "kernelspec": {
      "name": "python3",
      "display_name": "Python 3"
    },
    "language_info": {
      "name": "python"
    }
  },
  "cells": [
    {
      "cell_type": "code",
      "source": [
        "!pip install deepgram-sdk transformers soundfile"
      ],
      "metadata": {
        "colab": {
          "base_uri": "https://localhost:8080/",
          "height": 0
        },
        "id": "6t2JzXF10JEg",
        "outputId": "6c798cf5-2ffd-447b-e4c0-e5d3a34f7d2f"
      },
      "execution_count": 5,
      "outputs": [
        {
          "output_type": "stream",
          "name": "stdout",
          "text": [
            "Collecting deepgram-sdk\n",
            "  Using cached deepgram_sdk-3.4.0-py3-none-any.whl (98 kB)\n",
            "Requirement already satisfied: transformers in /usr/local/lib/python3.10/dist-packages (4.42.4)\n",
            "Requirement already satisfied: soundfile in /usr/local/lib/python3.10/dist-packages (0.12.1)\n",
            "Collecting httpx>=0.25.2 (from deepgram-sdk)\n",
            "  Using cached httpx-0.27.0-py3-none-any.whl (75 kB)\n",
            "Collecting websockets>=12.0 (from deepgram-sdk)\n",
            "  Using cached websockets-12.0-cp310-cp310-manylinux_2_5_x86_64.manylinux1_x86_64.manylinux_2_17_x86_64.manylinux2014_x86_64.whl (130 kB)\n",
            "Collecting dataclasses-json>=0.6.3 (from deepgram-sdk)\n",
            "  Using cached dataclasses_json-0.6.7-py3-none-any.whl (28 kB)\n",
            "Requirement already satisfied: typing-extensions>=4.9.0 in /usr/local/lib/python3.10/dist-packages (from deepgram-sdk) (4.12.2)\n",
            "Requirement already satisfied: aiohttp>=3.9.1 in /usr/local/lib/python3.10/dist-packages (from deepgram-sdk) (3.9.5)\n",
            "Collecting aiofiles>=23.2.1 (from deepgram-sdk)\n",
            "  Using cached aiofiles-24.1.0-py3-none-any.whl (15 kB)\n",
            "Collecting aenum>=3.1.0 (from deepgram-sdk)\n",
            "  Using cached aenum-3.1.15-py3-none-any.whl (137 kB)\n",
            "Collecting deprecation>=2.1.0 (from deepgram-sdk)\n",
            "  Using cached deprecation-2.1.0-py2.py3-none-any.whl (11 kB)\n",
            "Requirement already satisfied: filelock in /usr/local/lib/python3.10/dist-packages (from transformers) (3.15.4)\n",
            "Requirement already satisfied: huggingface-hub<1.0,>=0.23.2 in /usr/local/lib/python3.10/dist-packages (from transformers) (0.23.5)\n",
            "Requirement already satisfied: numpy<2.0,>=1.17 in /usr/local/lib/python3.10/dist-packages (from transformers) (1.25.2)\n",
            "Requirement already satisfied: packaging>=20.0 in /usr/local/lib/python3.10/dist-packages (from transformers) (24.1)\n",
            "Requirement already satisfied: pyyaml>=5.1 in /usr/local/lib/python3.10/dist-packages (from transformers) (6.0.1)\n",
            "Requirement already satisfied: regex!=2019.12.17 in /usr/local/lib/python3.10/dist-packages (from transformers) (2024.5.15)\n",
            "Requirement already satisfied: requests in /usr/local/lib/python3.10/dist-packages (from transformers) (2.31.0)\n",
            "Requirement already satisfied: safetensors>=0.4.1 in /usr/local/lib/python3.10/dist-packages (from transformers) (0.4.3)\n",
            "Requirement already satisfied: tokenizers<0.20,>=0.19 in /usr/local/lib/python3.10/dist-packages (from transformers) (0.19.1)\n",
            "Requirement already satisfied: tqdm>=4.27 in /usr/local/lib/python3.10/dist-packages (from transformers) (4.66.4)\n",
            "Requirement already satisfied: cffi>=1.0 in /usr/local/lib/python3.10/dist-packages (from soundfile) (1.16.0)\n",
            "Requirement already satisfied: aiosignal>=1.1.2 in /usr/local/lib/python3.10/dist-packages (from aiohttp>=3.9.1->deepgram-sdk) (1.3.1)\n",
            "Requirement already satisfied: attrs>=17.3.0 in /usr/local/lib/python3.10/dist-packages (from aiohttp>=3.9.1->deepgram-sdk) (23.2.0)\n",
            "Requirement already satisfied: frozenlist>=1.1.1 in /usr/local/lib/python3.10/dist-packages (from aiohttp>=3.9.1->deepgram-sdk) (1.4.1)\n",
            "Requirement already satisfied: multidict<7.0,>=4.5 in /usr/local/lib/python3.10/dist-packages (from aiohttp>=3.9.1->deepgram-sdk) (6.0.5)\n",
            "Requirement already satisfied: yarl<2.0,>=1.0 in /usr/local/lib/python3.10/dist-packages (from aiohttp>=3.9.1->deepgram-sdk) (1.9.4)\n",
            "Requirement already satisfied: async-timeout<5.0,>=4.0 in /usr/local/lib/python3.10/dist-packages (from aiohttp>=3.9.1->deepgram-sdk) (4.0.3)\n",
            "Requirement already satisfied: pycparser in /usr/local/lib/python3.10/dist-packages (from cffi>=1.0->soundfile) (2.22)\n",
            "Collecting marshmallow<4.0.0,>=3.18.0 (from dataclasses-json>=0.6.3->deepgram-sdk)\n",
            "  Using cached marshmallow-3.21.3-py3-none-any.whl (49 kB)\n",
            "Collecting typing-inspect<1,>=0.4.0 (from dataclasses-json>=0.6.3->deepgram-sdk)\n",
            "  Using cached typing_inspect-0.9.0-py3-none-any.whl (8.8 kB)\n",
            "Requirement already satisfied: anyio in /usr/local/lib/python3.10/dist-packages (from httpx>=0.25.2->deepgram-sdk) (3.7.1)\n",
            "Requirement already satisfied: certifi in /usr/local/lib/python3.10/dist-packages (from httpx>=0.25.2->deepgram-sdk) (2024.7.4)\n",
            "Collecting httpcore==1.* (from httpx>=0.25.2->deepgram-sdk)\n",
            "  Using cached httpcore-1.0.5-py3-none-any.whl (77 kB)\n",
            "Requirement already satisfied: idna in /usr/local/lib/python3.10/dist-packages (from httpx>=0.25.2->deepgram-sdk) (3.7)\n",
            "Requirement already satisfied: sniffio in /usr/local/lib/python3.10/dist-packages (from httpx>=0.25.2->deepgram-sdk) (1.3.1)\n",
            "Collecting h11<0.15,>=0.13 (from httpcore==1.*->httpx>=0.25.2->deepgram-sdk)\n",
            "  Using cached h11-0.14.0-py3-none-any.whl (58 kB)\n",
            "Requirement already satisfied: fsspec>=2023.5.0 in /usr/local/lib/python3.10/dist-packages (from huggingface-hub<1.0,>=0.23.2->transformers) (2023.6.0)\n",
            "Requirement already satisfied: charset-normalizer<4,>=2 in /usr/local/lib/python3.10/dist-packages (from requests->transformers) (3.3.2)\n",
            "Requirement already satisfied: urllib3<3,>=1.21.1 in /usr/local/lib/python3.10/dist-packages (from requests->transformers) (2.0.7)\n",
            "Collecting mypy-extensions>=0.3.0 (from typing-inspect<1,>=0.4.0->dataclasses-json>=0.6.3->deepgram-sdk)\n",
            "  Using cached mypy_extensions-1.0.0-py3-none-any.whl (4.7 kB)\n",
            "Requirement already satisfied: exceptiongroup in /usr/local/lib/python3.10/dist-packages (from anyio->httpx>=0.25.2->deepgram-sdk) (1.2.2)\n",
            "Installing collected packages: aenum, websockets, mypy-extensions, marshmallow, h11, deprecation, aiofiles, typing-inspect, httpcore, httpx, dataclasses-json, deepgram-sdk\n",
            "Successfully installed aenum-3.1.15 aiofiles-24.1.0 dataclasses-json-0.6.7 deepgram-sdk-3.4.0 deprecation-2.1.0 h11-0.14.0 httpcore-1.0.5 httpx-0.27.0 marshmallow-3.21.3 mypy-extensions-1.0.0 typing-inspect-0.9.0 websockets-12.0\n"
          ]
        }
      ]
    },
    {
      "cell_type": "code",
      "execution_count": 7,
      "metadata": {
        "id": "bYVZMfnHz-eo"
      },
      "outputs": [],
      "source": [
        "import deepgram\n",
        "import soundfile as sf\n",
        "import transformers\n",
        "from transformers import pipeline"
      ]
    },
    {
      "cell_type": "code",
      "source": [
        "DEEPGRAM_API_KEY = \"********\"\n",
        "OPENAI_API_KEY = \"************\"\n"
      ],
      "metadata": {
        "id": "xrM93py60Z79"
      },
      "execution_count": 8,
      "outputs": []
    },
    {
      "cell_type": "code",
      "source": [
        "SYSTEM_PROMPT = \"Here's what I found based on your query: \""
      ],
      "metadata": {
        "id": "afs29Pf12hPj"
      },
      "execution_count": 9,
      "outputs": []
    },
    {
      "cell_type": "code",
      "source": [
        "class BackendVoiceConversation:\n",
        "    def __init__(self, deepgram_config, tts_config, llm_config):\n",
        "        from deepgram import DeepgramClient\n",
        "\n",
        "        self.deepgram_dg = DeepgramClient(DEEPGRAM_API_KEY)\n",
        "\n",
        "        if tts_config[\"name\"] == \"deepgram\":\n",
        "            self.tts_engine = self.deepgram_dg.tts\n",
        "        elif tts_config[\"name\"] == \"openai\":\n",
        "            pass\n",
        "        else:\n",
        "            raise ValueError(\"Unsupported TTS engine:\", tts_config[\"name\"])\n",
        "\n",
        "        if llm_config[\"name\"] == \"openai\":\n",
        "            self.llm_pipeline = pipeline(\"text-generation\", model=\"text-davinci-003\",\n",
        "                                          api_key=OPENAI_API_KEY, temperature=0.7)\n",
        "        else:\n",
        "            raise ValueError(\"Unsupported LLM engine:\", llm_config[\"name\"])\n",
        "\n",
        "    def process_audio_file(self, audio_filepath):\n",
        "        audio_data, sample_rate = sf.read(audio_filepath)\n",
        "\n",
        "        audio_bytes = audio_data.tobytes()\n",
        "\n",
        "        text = self.deepgram_dg.transcription(audio_bytes, sample_rate=sample_rate)[\"channel\"][0][\"alternatives\"][0][\"transcript\"]\n",
        "\n",
        "        llm_response = self.llm_pipeline(SYSTEM_PROMPT + text, max_length=1024, truncation=True)[0][\"generated_text\"]\n",
        "\n",
        "        tts_audio = self.tts_engine.synthesize_text(llm_response)\n",
        "\n",
        "        stt_time = 1.0\n",
        "        llm_time = 1.0\n",
        "        total_time = stt_time + llm_time\n",
        "\n",
        "        print(f\"STT processing time: {stt_time:.2f} seconds (estimated)\")\n",
        "        print(f\"LLM response time: {llm_time:.2f} seconds (estimated)\")\n",
        "        print(f\"Total response time: {total_time:.2f} seconds (estimated)\")\n",
        "\n",
        "        print(f\"LLM response: {llm_response}\")\n"
      ],
      "metadata": {
        "id": "hRvupHGU2igI"
      },
      "execution_count": 17,
      "outputs": []
    },
    {
      "cell_type": "code",
      "source": [
        "audio_file = r\"C:\\Users\\bhara\\Downloads\\voice_command.mp3\"\n",
        "\n",
        "conversation = BackendVoiceConversation(\n",
        "    deepgram_config={\"name\": \"deepgram\"},\n",
        "    tts_config={\"name\": \"deepgram\"},\n",
        "    llm_config={\"name\": \"openai\"}\n",
        ")\n",
        "\n",
        "conversation.process_audio_file(audio_file)\n"
      ],
      "metadata": {
        "colab": {
          "base_uri": "https://localhost:8080/",
          "height": 332
        },
        "id": "kkDQ6KSd2zsV",
        "outputId": "f438842f-5ff0-43c8-cb0c-99ef57de002f"
      },
      "execution_count": 19,
      "outputs": [
        {
          "output_type": "error",
          "ename": "AttributeError",
          "evalue": "'DeepgramClient' object has no attribute 'tts'",
          "traceback": [
            "\u001b[0;31m---------------------------------------------------------------------------\u001b[0m",
            "\u001b[0;31mAttributeError\u001b[0m                            Traceback (most recent call last)",
            "\u001b[0;32m<ipython-input-19-bfdfe3233ef0>\u001b[0m in \u001b[0;36m<cell line: 3>\u001b[0;34m()\u001b[0m\n\u001b[1;32m      1\u001b[0m \u001b[0maudio_file\u001b[0m \u001b[0;34m=\u001b[0m \u001b[0;34mr\"C:\\Users\\bhara\\Downloads\\voice_command.mp3\"\u001b[0m  \u001b[0;31m# Replace with your audio file path\u001b[0m\u001b[0;34m\u001b[0m\u001b[0;34m\u001b[0m\u001b[0m\n\u001b[1;32m      2\u001b[0m \u001b[0;34m\u001b[0m\u001b[0m\n\u001b[0;32m----> 3\u001b[0;31m conversation = BackendVoiceConversation(\n\u001b[0m\u001b[1;32m      4\u001b[0m     \u001b[0mdeepgram_config\u001b[0m\u001b[0;34m=\u001b[0m\u001b[0;34m{\u001b[0m\u001b[0;34m\"name\"\u001b[0m\u001b[0;34m:\u001b[0m \u001b[0;34m\"deepgram\"\u001b[0m\u001b[0;34m}\u001b[0m\u001b[0;34m,\u001b[0m\u001b[0;34m\u001b[0m\u001b[0;34m\u001b[0m\u001b[0m\n\u001b[1;32m      5\u001b[0m     \u001b[0mtts_config\u001b[0m\u001b[0;34m=\u001b[0m\u001b[0;34m{\u001b[0m\u001b[0;34m\"name\"\u001b[0m\u001b[0;34m:\u001b[0m \u001b[0;34m\"deepgram\"\u001b[0m\u001b[0;34m}\u001b[0m\u001b[0;34m,\u001b[0m  \u001b[0;31m# Choose your preferred TTS engine\u001b[0m\u001b[0;34m\u001b[0m\u001b[0;34m\u001b[0m\u001b[0m\n",
            "\u001b[0;32m<ipython-input-17-595ef23d8ea5>\u001b[0m in \u001b[0;36m__init__\u001b[0;34m(self, deepgram_config, tts_config, llm_config)\u001b[0m\n\u001b[1;32m      8\u001b[0m         \u001b[0;31m# Text-to-Speech (TTS) Configuration (Choose between Deepgram or OpenAI)\u001b[0m\u001b[0;34m\u001b[0m\u001b[0;34m\u001b[0m\u001b[0m\n\u001b[1;32m      9\u001b[0m         \u001b[0;32mif\u001b[0m \u001b[0mtts_config\u001b[0m\u001b[0;34m[\u001b[0m\u001b[0;34m\"name\"\u001b[0m\u001b[0;34m]\u001b[0m \u001b[0;34m==\u001b[0m \u001b[0;34m\"deepgram\"\u001b[0m\u001b[0;34m:\u001b[0m\u001b[0;34m\u001b[0m\u001b[0;34m\u001b[0m\u001b[0m\n\u001b[0;32m---> 10\u001b[0;31m             \u001b[0mself\u001b[0m\u001b[0;34m.\u001b[0m\u001b[0mtts_engine\u001b[0m \u001b[0;34m=\u001b[0m \u001b[0mself\u001b[0m\u001b[0;34m.\u001b[0m\u001b[0mdeepgram_dg\u001b[0m\u001b[0;34m.\u001b[0m\u001b[0mtts\u001b[0m\u001b[0;34m\u001b[0m\u001b[0;34m\u001b[0m\u001b[0m\n\u001b[0m\u001b[1;32m     11\u001b[0m         \u001b[0;32melif\u001b[0m \u001b[0mtts_config\u001b[0m\u001b[0;34m[\u001b[0m\u001b[0;34m\"name\"\u001b[0m\u001b[0;34m]\u001b[0m \u001b[0;34m==\u001b[0m \u001b[0;34m\"openai\"\u001b[0m\u001b[0;34m:\u001b[0m\u001b[0;34m\u001b[0m\u001b[0;34m\u001b[0m\u001b[0m\n\u001b[1;32m     12\u001b[0m             \u001b[0;31m# Integrate OpenAI TTS API if desired (requires additional setup)\u001b[0m\u001b[0;34m\u001b[0m\u001b[0;34m\u001b[0m\u001b[0m\n",
            "\u001b[0;31mAttributeError\u001b[0m: 'DeepgramClient' object has no attribute 'tts'"
          ]
        }
      ]
    },
    {
      "cell_type": "code",
      "source": [],
      "metadata": {
        "id": "iv3w37I7C9n9"
      },
      "execution_count": null,
      "outputs": []
    }
  ]
}